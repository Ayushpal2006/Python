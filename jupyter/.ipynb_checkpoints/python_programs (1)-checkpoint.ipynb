{
 "cells": [
  {
   "cell_type": "markdown",
   "id": "263c4184",
   "metadata": {},
   "source": [
    "# Python Programs"
   ]
  },
  {
   "cell_type": "markdown",
   "id": "5857863c",
   "metadata": {},
   "source": [
    "## 1. Factorial of a Number"
   ]
  },
  {
   "cell_type": "code",
   "execution_count": null,
   "id": "c5913a04",
   "metadata": {},
   "outputs": [],
   "source": [
    "\n",
    "def factorial(n):\n",
    "    if n == 0:\n",
    "        return 1\n",
    "    else:\n",
    "        return n * factorial(n - 1)\n",
    "\n",
    "num = int(input(\"Enter a number: \"))\n",
    "print(\"Factorial of\", num, \"is\", factorial(num))\n"
   ]
  },
  {
   "cell_type": "markdown",
   "id": "94bd674b",
   "metadata": {},
   "source": [
    "## 2. Generate Prime Numbers Between 1 to n"
   ]
  },
  {
   "cell_type": "code",
   "execution_count": null,
   "id": "c4865f6c",
   "metadata": {},
   "outputs": [],
   "source": [
    "\n",
    "def is_prime(num):\n",
    "    if num < 2:\n",
    "        return False\n",
    "    for i in range(2, int(num**0.5) + 1):\n",
    "        if num % i == 0:\n",
    "            return False\n",
    "    return True\n",
    "\n",
    "n = int(input(\"Enter the value of n: \"))\n",
    "primes = [i for i in range(1, n+1) if is_prime(i)]\n",
    "print(\"Prime numbers between 1 and\", n, \":\", primes)\n"
   ]
  },
  {
   "cell_type": "markdown",
   "id": "3889d87f",
   "metadata": {},
   "source": [
    "## 3. Sum and Average of Numbers in a List"
   ]
  },
  {
   "cell_type": "code",
   "execution_count": null,
   "id": "6cb5686f",
   "metadata": {},
   "outputs": [],
   "source": [
    "\n",
    "numbers = [int(x) for x in input(\"Enter numbers separated by space: \").split()]\n",
    "total = sum(numbers)\n",
    "average = total / len(numbers)\n",
    "print(\"Sum:\", total)\n",
    "print(\"Average:\", average)\n"
   ]
  },
  {
   "cell_type": "markdown",
   "id": "10d7d9ba",
   "metadata": {},
   "source": [
    "## 4. Union, Intersection, and Difference of Two Sets"
   ]
  },
  {
   "cell_type": "code",
   "execution_count": null,
   "id": "0b4f2582",
   "metadata": {},
   "outputs": [],
   "source": [
    "\n",
    "set1 = {int(x) for x in input(\"Enter elements of set1 separated by space: \").split()}\n",
    "set2 = {int(x) for x in input(\"Enter elements of set2 separated by space: \").split()}\n",
    "\n",
    "print(\"Union:\", set1.union(set2))\n",
    "print(\"Intersection:\", set1.intersection(set2))\n",
    "print(\"Difference (set1 - set2):\", set1.difference(set2))\n"
   ]
  },
  {
   "cell_type": "markdown",
   "id": "f65b11cc",
   "metadata": {},
   "source": [
    "## 5. Count Element Occurrences in a List"
   ]
  },
  {
   "cell_type": "code",
   "execution_count": null,
   "id": "7beee5ea",
   "metadata": {},
   "outputs": [],
   "source": [
    "\n",
    "numbers = [int(x) for x in input(\"Enter numbers separated by space: \").split()]\n",
    "counts = {}\n",
    "for num in numbers:\n",
    "    counts[num] = counts.get(num, 0) + 1\n",
    "print(\"Element Counts:\", counts)\n"
   ]
  },
  {
   "cell_type": "markdown",
   "id": "d0a0964a",
   "metadata": {},
   "source": [
    "## 6. Swap First Two and Last Two Characters in a String"
   ]
  },
  {
   "cell_type": "code",
   "execution_count": null,
   "id": "13d7ac78",
   "metadata": {},
   "outputs": [],
   "source": [
    "\n",
    "def swap_characters(s):\n",
    "    if len(s) < 4:\n",
    "        return \"String too short!\"\n",
    "    return s[-2:] + s[2:-2] + s[:2]\n",
    "\n",
    "string = input(\"Enter a string: \")\n",
    "print(\"Modified String:\", swap_characters(string))\n"
   ]
  },
  {
   "cell_type": "markdown",
   "id": "ca64f343",
   "metadata": {},
   "source": [
    "## 7. Create a Text File with Names of Ten Indian Cities"
   ]
  },
  {
   "cell_type": "code",
   "execution_count": null,
   "id": "5895c37a",
   "metadata": {},
   "outputs": [],
   "source": [
    "\n",
    "cities = [\"Mumbai\", \"Delhi\", \"Bangalore\", \"Hyderabad\", \"Ahmedabad\",\n",
    "          \"Chennai\", \"Kolkata\", \"Surat\", \"Pune\", \"Jaipur\"]\n",
    "\n",
    "with open(\"cities.txt\", \"w\") as file:\n",
    "    for city in cities:\n",
    "        file.write(city + \"\\n\")\n",
    "print(\"File 'cities.txt' created successfully.\")\n"
   ]
  },
  {
   "cell_type": "markdown",
   "id": "1d00f101",
   "metadata": {},
   "source": [
    "## 8. Create a Text File About Your College"
   ]
  },
  {
   "cell_type": "code",
   "execution_count": null,
   "id": "b63754ca",
   "metadata": {},
   "outputs": [],
   "source": [
    "\n",
    "lines = [\n",
    "    \"My college is one of the best in the city.\\n\",\n",
    "    \"It has excellent faculty and infrastructure.\\n\",\n",
    "    \"The campus is vast and well-maintained.\\n\",\n",
    "    \"It offers a variety of courses across different fields.\\n\",\n",
    "    \"Students enjoy a vibrant and enriching campus life.\\n\"\n",
    "]\n",
    "\n",
    "with open(\"college.txt\", \"w\") as file:\n",
    "    file.writelines(lines)\n",
    "print(\"File 'college.txt' created successfully.\")\n"
   ]
  },
  {
   "cell_type": "markdown",
   "id": "216195c6",
   "metadata": {},
   "source": [
    "## 9. Merge Two Input Files"
   ]
  },
  {
   "cell_type": "code",
   "execution_count": null,
   "id": "749c50de",
   "metadata": {},
   "outputs": [],
   "source": [
    "\n",
    "with open(\"file1.txt\", \"r\") as file1, open(\"file2.txt\", \"r\") as file2, open(\"merged.txt\", \"w\") as merged_file:\n",
    "    merged_file.write(file1.read() + \"\\n\" + file2.read())\n",
    "print(\"Files merged into 'merged.txt'.\")\n"
   ]
  },
  {
   "cell_type": "markdown",
   "id": "f32068b3",
   "metadata": {},
   "source": [
    "## 10. Count Vowels in a File"
   ]
  },
  {
   "cell_type": "code",
   "execution_count": null,
   "id": "2fdda84c",
   "metadata": {},
   "outputs": [],
   "source": [
    "\n",
    "def count_vowels(filename):\n",
    "    vowels = \"aeiouAEIOU\"\n",
    "    counts = {vowel: 0 for vowel in vowels}\n",
    "\n",
    "    with open(filename, \"r\") as file:\n",
    "        for char in file.read():\n",
    "            if char in vowels:\n",
    "                counts[char] += 1\n",
    "\n",
    "    return counts\n",
    "\n",
    "filename = \"college.txt\"\n",
    "vowel_counts = count_vowels(filename)\n",
    "print(\"Vowel Counts:\", vowel_counts)\n"
   ]
  },
  {
   "cell_type": "markdown",
   "id": "5e87f3be",
   "metadata": {},
   "source": [
    "## 11. Create a CSV File for Student Data"
   ]
  },
  {
   "cell_type": "code",
   "execution_count": null,
   "id": "e6aebf7c",
   "metadata": {},
   "outputs": [],
   "source": [
    "\n",
    "import csv\n",
    "\n",
    "data = [\n",
    "    [\"RollNo\", \"Enrollment_No\", \"Name\", \"Course\", \"Semester\"],\n",
    "    [\"1\", \"ENR001\", \"Alice\", \"CS\", \"I\"],\n",
    "    [\"2\", \"ENR002\", \"Bob\", \"IT\", \"II\"],\n",
    "    [\"3\", \"ENR003\", \"Charlie\", \"ECE\", \"III\"]\n",
    "]\n",
    "\n",
    "with open(\"students.csv\", \"w\", newline=\"\") as file:\n",
    "    writer = csv.writer(file)\n",
    "    writer.writerows(data)\n",
    "print(\"File 'students.csv' created successfully.\")\n"
   ]
  },
  {
   "cell_type": "markdown",
   "id": "008292a4",
   "metadata": {},
   "source": [
    "## 12. Filter Records of II Semester Students"
   ]
  },
  {
   "cell_type": "code",
   "execution_count": null,
   "id": "73247fc6",
   "metadata": {},
   "outputs": [],
   "source": [
    "\n",
    "import csv\n",
    "\n",
    "with open(\"students.csv\", \"r\") as file:\n",
    "    reader = csv.reader(file)\n",
    "    filtered_students = [row for row in reader if len(row) > 4 and row[4] == \"II\"]\n",
    "\n",
    "print(\"II Semester Students:\", filtered_students)\n"
   ]
  },
  {
   "cell_type": "markdown",
   "id": "370c28da",
   "metadata": {},
   "source": [
    "## 13. GUI for Event Registration"
   ]
  },
  {
   "cell_type": "code",
   "execution_count": null,
   "id": "28d9f456",
   "metadata": {},
   "outputs": [],
   "source": [
    "\n",
    "import tkinter as tk\n",
    "\n",
    "def submit_details():\n",
    "    name = name_entry.get()\n",
    "    email = email_entry.get()\n",
    "    print(f\"Name: {name}, Email: {email}\")\n",
    "\n",
    "root = tk.Tk()\n",
    "root.title(\"Event Registration\")\n",
    "\n",
    "tk.Label(root, text=\"Name:\").grid(row=0, column=0)\n",
    "name_entry = tk.Entry(root)\n",
    "name_entry.grid(row=0, column=1)\n",
    "\n",
    "tk.Label(root, text=\"Email:\").grid(row=1, column=0)\n",
    "email_entry = tk.Entry(root)\n",
    "email_entry.grid(row=1, column=1)\n",
    "\n",
    "tk.Button(root, text=\"Submit\", command=submit_details).grid(row=2, columnspan=2)\n",
    "root.mainloop()\n"
   ]
  },
  {
   "cell_type": "code",
   "execution_count": null,
   "id": "6c31389a-c564-4302-b2c1-8313a8012b49",
   "metadata": {},
   "outputs": [],
   "source": [
    "import tkinter as tk\n",
    "\n",
    "def submit():\n",
    "    # Get the entered data\n",
    "    name = name_entry.get()\n",
    "    email = email_entry.get()\n",
    "    phone = phone_entry.get()\n",
    "    \n",
    "    # Print the data entered by the user\n",
    "    print(f\"Name: {name}\")\n",
    "    print(f\"Email: {email}\")\n",
    "    print(f\"Phone: {phone}\")\n",
    "    \n",
    "    # Clear the entries\n",
    "    name_entry.delete(0, tk.END)\n",
    "    email_entry.delete(0, tk.END)\n",
    "    phone_entry.delete(0, tk.END)\n",
    "\n",
    "# Create the main window\n",
    "root = tk.Tk()\n",
    "root.title(\"Event Registration\")\n",
    "\n",
    "# Create labels and entry widgets\n",
    "tk.Label(root, text=\"Name:\").grid(row=0, column=0, padx=10, pady=5)\n",
    "name_entry = tk.Entry(root)\n",
    "name_entry.grid(row=0, column=1, padx=10, pady=5)\n",
    "\n",
    "tk.Label(root, text=\"Email:\").grid(row=1, column=0, padx=10, pady=5)\n",
    "email_entry = tk.Entry(root)\n",
    "email_entry.grid(row=1, column=1, padx=10, pady=5)\n",
    "\n",
    "tk.Label(root, text=\"Phone:\").grid(row=2, column=0, padx=10, pady=5)\n",
    "phone_entry = tk.Entry(root)\n",
    "phone_entry.grid(row=2, column=1, padx=10, pady=5)\n",
    "\n",
    "# Submit button\n",
    "submit_button = tk.Button(root, text=\"Submit\", command=submit)\n",
    "submit_button.grid(row=3, columnspan=2, pady=10)\n",
    "\n",
    "root.mainloop()\n"
   ]
  },
  {
   "cell_type": "markdown",
   "id": "9234b83e-f441-4c56-823c-5a890e4c10e8",
   "metadata": {},
   "source": [
    "## simple cal\n"
   ]
  },
  {
   "cell_type": "code",
   "execution_count": 4,
   "id": "adbc5fd9-2da6-4804-9fd0-a90b3e35fcff",
   "metadata": {},
   "outputs": [],
   "source": [
    "import tkinter as tk\n",
    "\n",
    "def calculate():\n",
    "    # Get the numbers and operation\n",
    "    try:\n",
    "        num1 = float(entry1.get())\n",
    "        num2 = float(entry2.get())\n",
    "        operation = operation_entry.get()\n",
    "\n",
    "        # Perform the calculation\n",
    "        if operation == \"+\":\n",
    "            result = num1 + num2\n",
    "        elif operation == \"-\":\n",
    "            result = num1 - num2\n",
    "        elif operation == \"*\":\n",
    "            result = num1 * num2\n",
    "        elif operation == \"/\":\n",
    "            if num2 != 0:\n",
    "                result = num1 / num2\n",
    "            else:\n",
    "                result = \"Error: Division by zero\"\n",
    "        else:\n",
    "            result = \"Invalid operation\"\n",
    "\n",
    "        # Display the result\n",
    "        result_label.config(text=f\"Result: {result}\")\n",
    "    except ValueError:\n",
    "        result_label.config(text=\"Error: Invalid input\")\n",
    "\n",
    "# Create the main window\n",
    "root = tk.Tk()\n",
    "root.title(\"Simple Calculator\")\n",
    "\n",
    "# Create labels and entry widgets\n",
    "tk.Label(root, text=\"Number 1:\").grid(row=0, column=0, padx=10, pady=5)\n",
    "entry1 = tk.Entry(root)\n",
    "entry1.grid(row=0, column=1, padx=10, pady=5)\n",
    "\n",
    "tk.Label(root, text=\"Number 2:\").grid(row=1, column=0, padx=10, pady=5)\n",
    "entry2 = tk.Entry(root)\n",
    "entry2.grid(row=1, column=1, padx=10, pady=5)\n",
    "\n",
    "tk.Label(root, text=\"Operation (+, -, *, /):\").grid(row=2, column=0, padx=10, pady=5)\n",
    "operation_entry = tk.Entry(root)\n",
    "operation_entry.grid(row=2, column=1, padx=10, pady=5)\n",
    "\n",
    "# Calculate button and result display\n",
    "calculate_button = tk.Button(root, text=\"Calculate\", command=calculate)\n",
    "calculate_button.grid(row=3, columnspan=2, pady=10)\n",
    "\n",
    "result_label = tk.Label(root, text=\"Result:\")\n",
    "result_label.grid(row=4, columnspan=2, pady=10)\n",
    "\n",
    "root.mainloop()\n"
   ]
  },
  {
   "cell_type": "markdown",
   "id": "a78d6ecb-d9ec-4db2-830e-55e840e6bf1f",
   "metadata": {},
   "source": [
    "## age cal"
   ]
  },
  {
   "cell_type": "code",
   "execution_count": 7,
   "id": "b9926063-795a-4b99-8605-59af8c894509",
   "metadata": {},
   "outputs": [],
   "source": [
    "from tkinter import Tk, Label, Entry, Button\n",
    "from datetime import datetime\n",
    "\n",
    "def calculate_age():\n",
    "    try:\n",
    "        dob = dob_entry.get()\n",
    "        birth_date = datetime.strptime(dob, \"%Y-%m-%d\")\n",
    "        today = datetime.today()\n",
    "        age = today.year - birth_date.year - ((today.month, today.day) < (birth_date.month, birth_date.day))\n",
    "        result_label.config(text=f\"Your Age: {age} years\")\n",
    "    except ValueError:\n",
    "        result_label.config(text=\"Invalid Date. Use format YYYY-MM-DD.\")\n",
    "\n",
    "# Create the main window\n",
    "root = Tk()\n",
    "root.title(\"Age Calculator\")\n",
    "\n",
    "# Create labels and entry widgets\n",
    "Label(root, text=\"Enter DOB (YYYY-MM-DD):\").grid(row=0, column=0, padx=10, pady=5)\n",
    "dob_entry = Entry(root)\n",
    "dob_entry.grid(row=0, column=1, padx=10, pady=5)\n",
    "\n",
    "# Calculate button and result display\n",
    "calculate_button = Button(root, text=\"Calculate Age\", command=calculate_age)\n",
    "calculate_button.grid(row=1, columnspan=2, pady=10)\n",
    "\n",
    "result_label = Label(root, text=\"Your Age: \")\n",
    "result_label.grid(row=2, columnspan=2, pady=10)\n",
    "\n",
    "root.mainloop()\n"
   ]
  },
  {
   "cell_type": "markdown",
   "id": "d4ca2b6f-1579-4969-bc06-e6e8a579af7b",
   "metadata": {},
   "source": [
    "## 16. Student Details Form with CSV Writing"
   ]
  },
  {
   "cell_type": "code",
   "execution_count": 10,
   "id": "7e9b3025-a903-4e83-a47b-59653c424dcf",
   "metadata": {},
   "outputs": [
    {
     "name": "stdout",
     "output_type": "stream",
     "text": [
      "Roll No: 123\n",
      "Enrollment No: 123\n",
      "Name: hf\n",
      "Course: kuhjrf\n",
      "Semester: 11\n"
     ]
    }
   ],
   "source": [
    "import tkinter as tk\n",
    "import csv\n",
    "\n",
    "def submit():\n",
    "    # Get the data from entries\n",
    "    roll_no = roll_no_entry.get()\n",
    "    enrollment_no = enrollment_no_entry.get()\n",
    "    name = name_entry.get()\n",
    "    course = course_entry.get()\n",
    "    semester = semester_entry.get()\n",
    "\n",
    "    # Print the data\n",
    "    print(f\"Roll No: {roll_no}\")\n",
    "    print(f\"Enrollment No: {enrollment_no}\")\n",
    "    print(f\"Name: {name}\")\n",
    "    print(f\"Course: {course}\")\n",
    "    print(f\"Semester: {semester}\")\n",
    "\n",
    "    # Write to CSV file\n",
    "    with open(\"students.csv\", \"a\", newline=\"\") as file:\n",
    "        writer = csv.writer(file)\n",
    "        writer.writerow([roll_no, enrollment_no, name, course, semester])\n",
    "\n",
    "    # Clear the entries\n",
    "    roll_no_entry.delete(0, tk.END)\n",
    "    enrollment_no_entry.delete(0, tk.END)\n",
    "    name_entry.delete(0, tk.END)\n",
    "    course_entry.delete(0, tk.END)\n",
    "    semester_entry.delete(0, tk.END)\n",
    "\n",
    "# Create the main window\n",
    "root = tk.Tk()\n",
    "root.title(\"Student Details Form\")\n",
    "\n",
    "# Create labels and entry widgets\n",
    "tk.Label(root, text=\"Roll No:\").grid(row=0, column=0, padx=10, pady=5)\n",
    "roll_no_entry = tk.Entry(root)\n",
    "roll_no_entry.grid(row=0, column=1, padx=10, pady=5)\n",
    "\n",
    "tk.Label(root, text=\"Enrollment No:\").grid(row=1, column=0, padx=10, pady=5)\n",
    "enrollment_no_entry = tk.Entry(root)\n",
    "enrollment_no_entry.grid(row=1, column=1, padx=10, pady=5)\n",
    "\n",
    "tk.Label(root, text=\"Name:\").grid(row=2, column=0, padx=10, pady=5)\n",
    "name_entry = tk.Entry(root)\n",
    "name_entry.grid(row=2, column=1, padx=10, pady=5)\n",
    "\n",
    "tk.Label(root, text=\"Course:\").grid(row=3, column=0, padx=10, pady=5)\n",
    "course_entry = tk.Entry(root)\n",
    "course_entry.grid(row=3, column=1, padx=10, pady=5)\n",
    "\n",
    "tk.Label(root, text=\"Semester:\").grid(row=4, column=0, padx=10, pady=5)\n",
    "semester_entry = tk.Entry(root)\n",
    "semester_entry.grid(row=4, column=1, padx=10, pady=5)\n",
    "\n",
    "# Submit button\n",
    "submit_button = tk.Button(root, text=\"Submit\", command=submit)\n",
    "submit_button.grid(row=5, columnspan=2, pady=10)\n",
    "\n",
    "root.mainloop()\n"
   ]
  },
  {
   "cell_type": "code",
   "execution_count": null,
   "id": "c1d573b0-e315-4a6b-8698-0c7e52007828",
   "metadata": {},
   "outputs": [],
   "source": []
  }
 ],
 "metadata": {
  "kernelspec": {
   "display_name": "Python 3 (ipykernel)",
   "language": "python",
   "name": "python3"
  },
  "language_info": {
   "codemirror_mode": {
    "name": "ipython",
    "version": 3
   },
   "file_extension": ".py",
   "mimetype": "text/x-python",
   "name": "python",
   "nbconvert_exporter": "python",
   "pygments_lexer": "ipython3",
   "version": "3.12.7"
  }
 },
 "nbformat": 4,
 "nbformat_minor": 5
}
