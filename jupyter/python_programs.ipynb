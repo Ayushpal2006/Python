{
 "cells": [
  {
   "cell_type": "markdown",
   "id": "4b349c8d",
   "metadata": {},
   "source": [
    "# Python Programs"
   ]
  },
  {
   "cell_type": "markdown",
   "id": "cbccbea3",
   "metadata": {},
   "source": [
    "## 2. Generate Prime Numbers Between 1 to n"
   ]
  },
  {
   "cell_type": "code",
   "execution_count": null,
   "id": "8c5b46e8",
   "metadata": {},
   "outputs": [],
   "source": [
    "\n",
    "def is_prime(num):\n",
    "    if num < 2:\n",
    "        return False\n",
    "    for i in range(2, int(num**0.5) + 1):\n",
    "        if num % i == 0:\n",
    "            return False\n",
    "    return True\n",
    "\n",
    "n = int(input(\"Enter the value of n: \"))\n",
    "primes = []\n",
    "for i in range(1, n + 1):\n",
    "    if is_prime(i):\n",
    "        primes.append(i)\n",
    "print(\"Prime numbers between 1 and\", n, \":\", primes)\n"
   ]
  },
  {
   "cell_type": "markdown",
   "id": "cb0ce468",
   "metadata": {},
   "source": [
    "## 4. Union, Intersection, and Difference of Two Sets"
   ]
  },
  {
   "cell_type": "code",
   "execution_count": null,
   "id": "d1eeb3df",
   "metadata": {},
   "outputs": [],
   "source": [
    "\n",
    "set1 = set()\n",
    "set2 = set()\n",
    "\n",
    "print(\"Enter elements of set1 separated by space:\")\n",
    "for x in input().split():\n",
    "    set1.add(int(x))\n",
    "\n",
    "print(\"Enter elements of set2 separated by space:\")\n",
    "for x in input().split():\n",
    "    set2.add(int(x))\n",
    "\n",
    "print(\"Union:\", set1 | set2)\n",
    "print(\"Intersection:\", set1 & set2)\n",
    "print(\"Difference (set1 - set2):\", set1 - set2)\n"
   ]
  },
  {
   "cell_type": "markdown",
   "id": "5486b6ae",
   "metadata": {},
   "source": [
    "## 5. Count Element Occurrences in a List"
   ]
  },
  {
   "cell_type": "code",
   "execution_count": null,
   "id": "c8975197",
   "metadata": {},
   "outputs": [],
   "source": [
    "\n",
    "numbers = input(\"Enter numbers separated by space: \").split()\n",
    "counts = {}\n",
    "for num in numbers:\n",
    "    if num not in counts:\n",
    "        counts[num] = 1\n",
    "    else:\n",
    "        counts[num] += 1\n",
    "print(\"Element Counts:\", counts)\n"
   ]
  },
  {
   "cell_type": "markdown",
   "id": "b802a748",
   "metadata": {},
   "source": [
    "## 12. Filter Records of II Semester Students"
   ]
  },
  {
   "cell_type": "code",
   "execution_count": null,
   "id": "ea90093f",
   "metadata": {},
   "outputs": [],
   "source": [
    "\n",
    "import csv\n",
    "\n",
    "with open(\"students.csv\", \"r\") as file:\n",
    "    reader = csv.reader(file)\n",
    "    filtered_students = []\n",
    "    for row in reader:\n",
    "        if len(row) > 4 and row[4] == \"II\":\n",
    "            filtered_students.append(row)\n",
    "\n",
    "print(\"II Semester Students:\")\n",
    "for student in filtered_students:\n",
    "    print(student)\n"
   ]
  }
 ],
 "metadata": {},
 "nbformat": 4,
 "nbformat_minor": 5
}
