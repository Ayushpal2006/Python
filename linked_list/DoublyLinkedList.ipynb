{
  "nbformat": 4,
  "nbformat_minor": 0,
  "metadata": {
    "colab": {
      "provenance": [],
      "authorship_tag": "ABX9TyOQi/JLruEzg+o9GsZsw7ru",
      "include_colab_link": true
    },
    "kernelspec": {
      "name": "python3",
      "display_name": "Python 3"
    },
    "language_info": {
      "name": "python"
    }
  },
  "cells": [
    {
      "cell_type": "markdown",
      "metadata": {
        "id": "view-in-github",
        "colab_type": "text"
      },
      "source": [
        "<a href=\"https://colab.research.google.com/github/Ayushpal2006/Python/blob/main/DoublyLinkedList.ipynb\" target=\"_parent\"><img src=\"https://colab.research.google.com/assets/colab-badge.svg\" alt=\"Open In Colab\"/></a>"
      ]
    },
    {
      "cell_type": "code",
      "source": [
        "class Node:\n",
        "    def __init__(self, data,next = None, prev = None):\n",
        "        self.data = data\n",
        "        self.next = next\n",
        "        self.prev = prev\n",
        "\n"
      ],
      "metadata": {
        "id": "_L6aWzfdv40Q"
      },
      "execution_count": 4,
      "outputs": []
    },
    {
      "cell_type": "code",
      "source": [
        "class Dll:\n",
        "    def __init__(self):\n",
        "        self.head = None\n",
        "        self.tail = None\n",
        "\n",
        "    def add_first(self, data):\n",
        "        new_node = Node(data)\n",
        "\n",
        "        if self.head is None:\n",
        "            self.head = new_node\n",
        "            self.tail = new_node\n",
        "        else:\n",
        "            new_node.next = self.head\n",
        "            self.head.prev = new_node\n",
        "            self.head = new_node\n",
        "\n",
        "    def add_last(self, data):\n",
        "        new_node = Node(data)\n",
        "\n",
        "        if self.head is None:\n",
        "            self.head = new_node\n",
        "            self.tail = new_node\n",
        "        else:\n",
        "            self.tail.next = new_node\n",
        "            new_node.prev = self.tail\n",
        "            self.tail = new_node\n",
        "\n",
        "    def display(self):\n",
        "        curr = self.head\n",
        "        count = 0\n",
        "        while curr is not None:\n",
        "            print(curr.data, end=\" <-> \" )\n",
        "            curr = curr.next\n",
        "            count += 1\n",
        "        print(\"None\")\n",
        "        print(count)\n",
        "\n",
        "\n",
        ""
      ],
      "metadata": {
        "id": "Mqwy6-gSv48o"
      },
      "execution_count": 23,
      "outputs": []
    },
    {
      "cell_type": "code",
      "source": [
        "l = Dll()\n",
        "l.add_first(1)\n",
        "l.add_first(2)\n",
        "l.add_last(3)\n",
        "l.display()"
      ],
      "metadata": {
        "colab": {
          "base_uri": "https://localhost:8080/"
        },
        "id": "XMs-B_YUx__3",
        "outputId": "3070de67-f21c-47b5-ee6b-bfba74f29891"
      },
      "execution_count": 24,
      "outputs": [
        {
          "output_type": "stream",
          "name": "stdout",
          "text": [
            "2 <-> 1 <-> 3 <-> None\n",
            "3\n"
          ]
        }
      ]
    },
    {
      "cell_type": "code",
      "source": [],
      "metadata": {
        "id": "2Ysj1tXxyEtU"
      },
      "execution_count": null,
      "outputs": []
    }
  ]
}